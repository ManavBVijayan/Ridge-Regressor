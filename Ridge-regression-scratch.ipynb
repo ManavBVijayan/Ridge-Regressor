{
 "cells": [
  {
   "cell_type": "code",
   "execution_count": 1,
   "id": "56c95fa9-82c1-41b1-b494-29a38d5d5712",
   "metadata": {},
   "outputs": [],
   "source": [
    "import numpy as np\n",
    "import matplotlib.pyplot as plt"
   ]
  },
  {
   "cell_type": "code",
   "execution_count": 2,
   "id": "85022971-1d58-4eeb-acab-198947898f4b",
   "metadata": {},
   "outputs": [],
   "source": [
    "# Generate synthetic data\n",
    "np.random.seed(42)\n",
    "X = 2 * np.random.rand(100, 1)\n",
    "y = 4 + 3 * X + 1.5 * np.random.randn(100, 1)"
   ]
  },
  {
   "cell_type": "code",
   "execution_count": 3,
   "id": "99925df2-cf98-424f-9585-363210c75730",
   "metadata": {},
   "outputs": [],
   "source": [
    "# Add bias term to X\n",
    "X_b = np.c_[np.ones((100, 1)), X]"
   ]
  },
  {
   "cell_type": "code",
   "execution_count": 5,
   "id": "9493dbad-a8c6-4985-b6d2-5e322b45a1b4",
   "metadata": {},
   "outputs": [],
   "source": [
    "from sklearn.model_selection import train_test_split\n",
    "X_train,X_test,y_train,y_test=train_test_split(X_b,y,test_size=.2,random_state=42)"
   ]
  },
  {
   "cell_type": "code",
   "execution_count": 6,
   "id": "2629f5ad-22b6-4e50-93ae-5cd0d9665ceb",
   "metadata": {},
   "outputs": [],
   "source": [
    "from sklearn.preprocessing import StandardScaler\n",
    "std_scaler=StandardScaler()"
   ]
  },
  {
   "cell_type": "code",
   "execution_count": 7,
   "id": "e2fe1a1e-8c6a-4fdd-ae6d-a75c0f396cb5",
   "metadata": {},
   "outputs": [],
   "source": [
    "X_train_scaled=std_scaler.fit_transform(X_train)\n",
    "X_test_scaled=std_scaler.transform(X_test)"
   ]
  },
  {
   "cell_type": "code",
   "execution_count": 8,
   "id": "b95f1807-0171-461a-836e-7b728edf218b",
   "metadata": {},
   "outputs": [],
   "source": [
    "def ridge_regressor(X,y,alpha):\n",
    "    m,n=X.shape\n",
    "    I=np.identity(n)\n",
    "    thete=np.linalg.inv(X.T @ X + alpha * I) @ X.T @ y\n",
    "    return thete"
   ]
  },
  {
   "cell_type": "code",
   "execution_count": 9,
   "id": "17edc6ec-2433-47dc-af22-b772d6ea0abc",
   "metadata": {},
   "outputs": [],
   "source": [
    "# Set the regularization parameter (lambda or alpha)\n",
    "alpha = 1.0"
   ]
  },
  {
   "cell_type": "code",
   "execution_count": 11,
   "id": "6903f165-e726-4833-a8da-0ae2357249ff",
   "metadata": {},
   "outputs": [],
   "source": [
    "# Train the Ridge Regression model\n",
    "theta_ridge = ridge_regressor(X_train_scaled, y_train, alpha)"
   ]
  },
  {
   "cell_type": "code",
   "execution_count": 13,
   "id": "360b3ca8-cf98-45cf-a67e-7001e471c1d9",
   "metadata": {},
   "outputs": [],
   "source": [
    "# Make predictions on the test set\n",
    "X_test_scaled_bias = np.c_[np.ones((X_test_scaled.shape[0], 1)), X_test_scaled[:, 1:]]  # Exclude the bias column from X_test_scaled\n",
    "y_pred_ridge = X_test_scaled_bias @ theta_ridge"
   ]
  },
  {
   "cell_type": "code",
   "execution_count": 14,
   "id": "dcb68730-3385-4f30-b4d0-e52cfca953bf",
   "metadata": {},
   "outputs": [
    {
     "ename": "NameError",
     "evalue": "name 'mean_squared_error' is not defined",
     "output_type": "error",
     "traceback": [
      "\u001b[1;31m---------------------------------------------------------------------------\u001b[0m",
      "\u001b[1;31mNameError\u001b[0m                                 Traceback (most recent call last)",
      "Cell \u001b[1;32mIn[14], line 2\u001b[0m\n\u001b[0;32m      1\u001b[0m \u001b[38;5;66;03m# Evaluate the model\u001b[39;00m\n\u001b[1;32m----> 2\u001b[0m mse_ridge \u001b[38;5;241m=\u001b[39m \u001b[43mmean_squared_error\u001b[49m(y_test, y_pred_ridge)\n\u001b[0;32m      3\u001b[0m \u001b[38;5;28mprint\u001b[39m(\u001b[38;5;124m\"\u001b[39m\u001b[38;5;124mMean Squared Error (Ridge Regression):\u001b[39m\u001b[38;5;124m\"\u001b[39m, mse_ridge)\n",
      "\u001b[1;31mNameError\u001b[0m: name 'mean_squared_error' is not defined"
     ]
    }
   ],
   "source": [
    "# Evaluate the model\n",
    "from sklearn.metrics import\n",
    "mse_ridge = mean_squared_error(y_test, y_pred_ridge)\n",
    "print(\"Mean Squared Error (Ridge Regression):\", mse_ridge)"
   ]
  }
 ],
 "metadata": {
  "kernelspec": {
   "display_name": "Python 3 (ipykernel)",
   "language": "python",
   "name": "python3"
  },
  "language_info": {
   "codemirror_mode": {
    "name": "ipython",
    "version": 3
   },
   "file_extension": ".py",
   "mimetype": "text/x-python",
   "name": "python",
   "nbconvert_exporter": "python",
   "pygments_lexer": "ipython3",
   "version": "3.10.9"
  }
 },
 "nbformat": 4,
 "nbformat_minor": 5
}
